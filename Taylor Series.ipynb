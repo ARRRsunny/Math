{
 "cells": [
  {
   "cell_type": "code",
   "execution_count": 1,
   "metadata": {},
   "outputs": [
    {
     "data": {
      "application/vnd.jupyter.widget-view+json": {
       "model_id": "bdb750dbdc8347a396e5f3d41c66bcf8",
       "version_major": 2,
       "version_minor": 0
      },
      "text/plain": [
       "interactive(children=(IntSlider(value=10, description='B', max=20), Output()), _dom_classes=('widget-interact'…"
      ]
     },
     "metadata": {},
     "output_type": "display_data"
    },
    {
     "data": {
      "text/plain": [
       "<function __main__.plot_taylor_series(B)>"
      ]
     },
     "execution_count": 1,
     "metadata": {},
     "output_type": "execute_result"
    }
   ],
   "source": [
    "import matplotlib.pyplot as plt\n",
    "import numpy as np\n",
    "from ipywidgets import interact\n",
    "import math  # Import the standard library math module\n",
    "\n",
    "# Function to calculate the partial sums\n",
    "def taylor_series_approx(x, B):\n",
    "    return sum([x**n / math.factorial(n) for n in range(B + 1)])\n",
    "\n",
    "# Interactive plot function\n",
    "def plot_taylor_series(B):\n",
    "    x = np.linspace(-5, 5, 400)\n",
    "    y_exp = np.exp(x)\n",
    "    y_partial_sum = np.array([taylor_series_approx(val, B) for val in x])\n",
    "    \n",
    "    plt.figure(figsize=(10, 6))\n",
    "    plt.plot(x, y_exp, label='$e^x$', color='black', linewidth=2)\n",
    "    plt.plot(x, y_partial_sum, label=f'$\\\\sum_{{n=0}}^{{{B}}} \\\\frac{{x^n}}{{n!}}$', color='blue')\n",
    "    plt.title('Taylor Series Approximation of $e^x$')\n",
    "    plt.xlabel('$x$')\n",
    "    plt.ylabel('$y$')\n",
    "    plt.legend()\n",
    "    plt.grid(True)\n",
    "\n",
    "    plt.xlim(-5,5)\n",
    "    plt.ylim(-5,5)\n",
    "    plt.show()\n",
    "\n",
    "# Create the interactive slider\n",
    "interact(plot_taylor_series, B=(0, 20, 1))\n"
   ]
  },
  {
   "cell_type": "code",
   "execution_count": 2,
   "metadata": {},
   "outputs": [
    {
     "data": {
      "application/vnd.jupyter.widget-view+json": {
       "model_id": "ee8101eee137414d983de5faf9bd90cc",
       "version_major": 2,
       "version_minor": 0
      },
      "text/plain": [
       "interactive(children=(IntSlider(value=20, description='N', max=40, min=1), Output()), _dom_classes=('widget-in…"
      ]
     },
     "metadata": {},
     "output_type": "display_data"
    },
    {
     "data": {
      "text/plain": [
       "<function __main__.plot_taylor_ln(N)>"
      ]
     },
     "execution_count": 2,
     "metadata": {},
     "output_type": "execute_result"
    }
   ],
   "source": [
    "import matplotlib.pyplot as plt\n",
    "import numpy as np\n",
    "from ipywidgets import interact\n",
    "import math\n",
    "\n",
    "# Function to calculate the Taylor series approximation for ln(1+x)\n",
    "def taylor_ln_approx(x, N):\n",
    "    terms = [(-1)**(n+1) * x**n / n for n in range(1, N + 1)]\n",
    "    return sum(terms)\n",
    "\n",
    "# Interactive plot function\n",
    "def plot_taylor_ln(N):\n",
    "    x = np.linspace(-0.99, 3, 400)  # The series converges for |x| < 1\n",
    "    y_ln = np.log(1 + x)\n",
    "    y_taylor = np.array([taylor_ln_approx(val, N) for val in x])\n",
    "    \n",
    "    plt.figure(figsize=(10, 6))\n",
    "    plt.plot(x, y_ln, label='$\\ln(1+x)$', color='black', linewidth=2)\n",
    "    plt.plot(x, y_taylor, label=f'$\\\\sum_{{n=1}}^{{{N}}} \\\\frac{{(-1)^{{n+1}} x^n}}{{n}}$')\n",
    "    plt.title('Taylor Series Approximation of $\\ln(1+x)$')\n",
    "    plt.xlabel('$x$')\n",
    "    plt.ylabel('$y$')\n",
    "    plt.legend()\n",
    "    plt.grid(True)\n",
    "    plt.xlim(-3,3)\n",
    "    plt.ylim(-3,3)\n",
    "    plt.show()\n",
    "\n",
    "# Create the interactive slider\n",
    "interact(plot_taylor_ln, N=(1, 40, 1))\n"
   ]
  },
  {
   "cell_type": "code",
   "execution_count": null,
   "metadata": {},
   "outputs": [],
   "source": [
    "import matplotlib.pyplot as plt\n",
    "import numpy as np\n",
    "from ipywidgets import interact\n",
    "import math\n",
    "\n",
    "# Function to calculate the Taylor series approximation for sin(x)\n",
    "def taylor_sin_approx(x, N):\n",
    "    terms = [(-1)**n * x**(2*n+1) / math.factorial(2*n+1) for n in range(N + 1)]\n",
    "    return sum(terms)\n",
    "\n",
    "# Interactive plot function\n",
    "def plot_taylor_sin(N):\n",
    "    x = np.linspace(-10*np.pi, 10*np.pi, 400)\n",
    "    y_sin = np.sin(x)\n",
    "    y_taylor = np.array([taylor_sin_approx(val, N) for val in x])\n",
    "    \n",
    "    plt.figure(figsize=(10, 6))\n",
    "    plt.plot(x, y_sin, label='$\\sin(x)$', color='black', linewidth=2)\n",
    "    plt.plot(x, y_taylor, label=f'Taylor Series (N={N})', linestyle='--')\n",
    "    \n",
    "    plt.title('Taylor Series Approximation of $\\sin(x)$')\n",
    "    plt.xlabel('$x$')\n",
    "    plt.ylabel('$y$')\n",
    "    plt.legend()\n",
    "    plt.xlim(-10,10)\n",
    "    plt.ylim(-3,3) \n",
    "    plt.grid(True)\n",
    "    plt.show()\n",
    "\n",
    "# Create the interactive slider\n",
    "interact(plot_taylor_sin, N=(0, 13, 1))\n"
   ]
  }
 ],
 "metadata": {
  "kernelspec": {
   "display_name": "Python 3",
   "language": "python",
   "name": "python3"
  },
  "language_info": {
   "codemirror_mode": {
    "name": "ipython",
    "version": 3
   },
   "file_extension": ".py",
   "mimetype": "text/x-python",
   "name": "python",
   "nbconvert_exporter": "python",
   "pygments_lexer": "ipython3",
   "version": "3.10.4"
  }
 },
 "nbformat": 4,
 "nbformat_minor": 2
}
